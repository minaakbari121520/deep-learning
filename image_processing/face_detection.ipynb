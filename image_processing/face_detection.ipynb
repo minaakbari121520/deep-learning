{
  "nbformat": 4,
  "nbformat_minor": 0,
  "metadata": {
    "colab": {
      "provenance": []
    },
    "kernelspec": {
      "name": "python3",
      "display_name": "Python 3"
    },
    "language_info": {
      "name": "python"
    }
  },
  "cells": [
    {
      "cell_type": "code",
      "execution_count": null,
      "metadata": {
        "id": "vWE3k420oh3D"
      },
      "outputs": [],
      "source": [
        "import cv2 as cv\n",
        "import numpy as np\n",
        "from cvzone.FaceDetectionModule import FaceDetector\n",
        "from cvzone.FaceMeshModule import FaceMeshDetector\n",
        "\n",
        "cap = cv.VideoCapture(0)\n",
        "detector = FaceDetector()\n",
        "meshdetector = FaceMeshDetector(maxFaces=1)\n",
        "\n",
        "while(True):\n",
        "    rec, frame = cap.read()\n",
        "    frame, bbox = detector.findFaces(frame)\n",
        "    frame, faces = meshdetector.findFaceMesh(frame)\n",
        "\n",
        "    if bbox:\n",
        "        center = bbox[0][\"center\"]   \n",
        "        #cv.circle(frame, center, 5, (255, 0, 255), cv.FILLED)\n",
        "    cv.imshow('frame', frame)\n",
        "    keyexit = cv.waitKey(5) & 0xFF\n",
        "    if keyexit == 27:\n",
        "        break\n",
        "\n",
        "cv.destroyAllWindows()\n",
        "cap.release()"
      ]
    }
  ]
}