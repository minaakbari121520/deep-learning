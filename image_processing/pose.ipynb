{
  "nbformat": 4,
  "nbformat_minor": 0,
  "metadata": {
    "colab": {
      "provenance": []
    },
    "kernelspec": {
      "name": "python3",
      "display_name": "Python 3"
    },
    "language_info": {
      "name": "python"
    }
  },
  "cells": [
    {
      "cell_type": "code",
      "execution_count": null,
      "metadata": {
        "id": "lqDQerxVX9dH"
      },
      "outputs": [],
      "source": [
        "import cv2 as cv \n",
        "import mediapipe as mp\n",
        "import time\n",
        "#cap = cv.VideoCapture(0)\n",
        "cap = cv.VideoCapture(\"C0037.MP4\")\n",
        "\n",
        "\n",
        "mpDraw = mp.solutions.drawing_utils\n",
        "mpPose = mp.solutions.pose\n",
        "pose = mpPose.Pose(static_image_mode=False,\n",
        "                   model_complexity=1,\n",
        "                   min_detection_confidence=0.5,\n",
        "                   min_tracking_confidence=0.5)\n",
        "\n",
        "\n",
        "\n",
        "while True:\n",
        "    success, img = cap.read()\n",
        "    imgRGB = cv.cvtColor(img , cv.COLOR_BGR2RGB)\n",
        "    results = pose.process(imgRGB)\n",
        "    print(results.pose_landmarks)\n",
        "    if results.pose_landmarks:\n",
        "        mpDraw.draw_landmarks(img, results.pose_landmarks,mpPose.POSE_CONNECTIONS)\n",
        "        \n",
        "        for id, lm in enumerate(results.pose_landmarks.landmark):\n",
        "            h, w ,c = img.shape\n",
        "            print(id, lm)\n",
        "            cx,cy=int(lm.x*w),int(lm.y*h)\n",
        "            cv.circle(img,(cx,cy),5,(255,0,1),cv.FILLED)\n",
        "\n",
        "    \n",
        "    \n",
        "    \n",
        "    \n",
        "    cv.imshow(\"IMAGE\",img)\n",
        "    \n",
        "   \n",
        "    if cv.waitKey(1)==ord('q'):\n",
        "        break\n",
        "    \n",
        "cap.release()\n",
        "cv.destroyAllWindows()\n",
        "    "
      ]
    }
  ]
}