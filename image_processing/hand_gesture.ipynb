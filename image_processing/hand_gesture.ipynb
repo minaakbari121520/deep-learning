{
  "nbformat": 4,
  "nbformat_minor": 0,
  "metadata": {
    "colab": {
      "provenance": []
    },
    "kernelspec": {
      "name": "python3",
      "display_name": "Python 3"
    },
    "language_info": {
      "name": "python"
    }
  },
  "cells": [
    {
      "cell_type": "code",
      "execution_count": null,
      "metadata": {
        "id": "dwbgzFNDfaVJ"
      },
      "outputs": [],
      "source": [
        "import cv2 as cv\n",
        "import numpy as np\n",
        "from cvzone.HandTrackingModule import HandDetector\n",
        "\n",
        "cap = cv.VideoCapture(0)\n",
        "detector = HandDetector(detectionCon = 0.5, maxHands=2)\n",
        "\n",
        "while(True):\n",
        "    rec, frame = cap.read()\n",
        "    hand, frame = detector.findHands(frame)\n",
        "    if hand:\n",
        "        hand1 = hand[0]\n",
        "        lmlist1 = hand1[\"lmList\"]\n",
        "\n",
        "        length, info, frame = detector.findDistance(lmlist1[4][:-1], lmlist1[8][:-1], frame)\n",
        "        \n",
        "    cv.imshow('frame', frame)\n",
        "    keyexit = cv.waitKey(5) & 0xFF\n",
        "    if keyexit == 27:\n",
        "        break\n",
        "\n",
        "cv.destroyAllWindows()\n",
        "cap.release()"
      ]
    }
  ]
}